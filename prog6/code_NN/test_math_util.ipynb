{
 "cells": [
  {
   "cell_type": "code",
   "execution_count": 1,
   "metadata": {},
   "outputs": [],
   "source": [
    "import numpy as np\n",
    "import math_util as mu"
   ]
  },
  {
   "cell_type": "code",
   "execution_count": 7,
   "metadata": {},
   "outputs": [],
   "source": [
    "x1 = np.array([1, 2, 3, 4, 5])\n",
    "x2 = np.array([.01, .5, 100, 0, -1])"
   ]
  },
  {
   "cell_type": "code",
   "execution_count": 8,
   "metadata": {},
   "outputs": [
    {
     "name": "stdout",
     "output_type": "stream",
     "text": [
      "[0.76159416 0.96402758 0.99505475 0.9993293  0.9999092 ]\n",
      "[ 0.00999967  0.46211716  1.          0.         -0.76159416]\n"
     ]
    }
   ],
   "source": [
    "print(mu.MyMath.tanh(x1))\n",
    "print(mu.MyMath.tanh(x2))"
   ]
  },
  {
   "cell_type": "code",
   "execution_count": 15,
   "metadata": {},
   "outputs": [
    {
     "name": "stdout",
     "output_type": "stream",
     "text": [
      "0.41997434161402614 == 0.41997434161402614\n",
      "\n",
      "[4.19974342e-01 7.06508249e-02 9.86603717e-03 1.34095068e-03\n",
      " 1.81583231e-04]\n",
      "==\n",
      "[4.19974342e-01 7.06508249e-02 9.86603717e-03 1.34095068e-03\n",
      " 1.81583231e-04]\n",
      "\n",
      "[0.99990001 0.78644773 0.         1.         0.41997434]\n",
      "==\n",
      "[0.99990001 0.78644773 0.         1.         0.41997434]\n"
     ]
    }
   ],
   "source": [
    "tx = np.tanh(1)\n",
    "print(f\"{1 - (tx * tx)} == {mu.MyMath.tanh_de(1)}\")\n",
    "tx = np.tanh(x1)\n",
    "print(f\"\\n{1 - (tx * tx)}\\n==\\n{ mu.MyMath.tanh_de(x1)}\")\n",
    "tx = np.tanh(x2)\n",
    "print(f\"\\n{1 - (tx * tx)}\\n==\\n{ mu.MyMath.tanh_de(x2)}\")\n"
   ]
  },
  {
   "cell_type": "code",
   "execution_count": 17,
   "metadata": {},
   "outputs": [
    {
     "name": "stdout",
     "output_type": "stream",
     "text": [
      "0.8807970779778824 == 0.8807970779778824\n",
      "0.0003352376707564664\n",
      "0.0003352376707564664 == 0.0003352376707564664\n"
     ]
    }
   ],
   "source": [
    "tx = ((np.tanh(2 / 2) + 1) / 2)\n",
    "print(f\"{tx} == {mu.MyMath.logis(2)}\")\n",
    "txd = (mu.MyMath.tanh_de(2 / 0.5)) / 4\n",
    "print(mu.MyMath.logis_de(2))\n",
    "print(f\"{txd} == {mu.MyMath.logis_de(2)}\")"
   ]
  },
  {
   "cell_type": "code",
   "execution_count": 19,
   "metadata": {},
   "outputs": [
    {
     "name": "stdout",
     "output_type": "stream",
     "text": [
      "25\n",
      "1.0\n",
      "[1 2 3 4 5]\n",
      "[1. 1. 1. 1. 1.]\n"
     ]
    }
   ],
   "source": [
    "print(mu.MyMath.iden(25))\n",
    "print(mu.MyMath.iden_de(25))\n",
    "\n",
    "print(mu.MyMath.iden(x1))\n",
    "print(mu.MyMath.iden_de(x1))"
   ]
  },
  {
   "cell_type": "code",
   "execution_count": 20,
   "metadata": {},
   "outputs": [
    {
     "name": "stdout",
     "output_type": "stream",
     "text": [
      "relu(-3) = 0 and relu'(-3) = 0\n",
      "relu(-2) = 0 and relu'(-2) = 0\n",
      "relu(-1) = 0 and relu'(-1) = 0\n",
      "relu(0) = 0 and relu'(0) = 0\n",
      "relu(1) = 1 and relu'(1) = 1\n",
      "relu(2) = 2 and relu'(2) = 1\n",
      "relu(3) = 3 and relu'(3) = 1\n"
     ]
    }
   ],
   "source": [
    "x3 = np.array([-3, -2, -1, 0, 1, 2, 3])\n",
    "for x in x3:\n",
    "    print(f\"relu({x}) = {mu.MyMath.relu(x)} and relu'({x}) = {mu.MyMath.relu_de(x)}\")"
   ]
  },
  {
   "cell_type": "code",
   "execution_count": 22,
   "metadata": {},
   "outputs": [
    {
     "name": "stdout",
     "output_type": "stream",
     "text": [
      "True\n"
     ]
    }
   ],
   "source": [
    "print(mu.MyMath.relu_de(-3) == mu.MyMath._relu_de_scaler(-3))"
   ]
  }
 ],
 "metadata": {
  "kernelspec": {
   "display_name": "Python 3",
   "language": "python",
   "name": "python3"
  },
  "language_info": {
   "codemirror_mode": {
    "name": "ipython",
    "version": 3
   },
   "file_extension": ".py",
   "mimetype": "text/x-python",
   "name": "python",
   "nbconvert_exporter": "python",
   "pygments_lexer": "ipython3",
   "version": "3.8.6"
  },
  "orig_nbformat": 4
 },
 "nbformat": 4,
 "nbformat_minor": 2
}
