{
 "cells": [
  {
   "cell_type": "code",
   "execution_count": 2,
   "metadata": {},
   "outputs": [],
   "source": [
    "import numpy as np\n",
    "import math\n",
    "import sys\n",
    "sys.path.append(\"..\")\n",
    "import logistic_regression\n",
    "\n",
    "from code_misc.utils import MyUtils"
   ]
  },
  {
   "cell_type": "code",
   "execution_count": 8,
   "metadata": {},
   "outputs": [],
   "source": [
    "LR = logistic_regression.LogisticRegression()\n",
    "X_test1 = np.array([[1,2],[3,4],[5,6]])\n",
    "y_test1 = np.array([[-1.0],[1.0],[1.0]])\n",
    "X_test1 = np.insert(X_test1, 0, 1, axis=0)"
   ]
  },
  {
   "cell_type": "code",
   "execution_count": 9,
   "metadata": {},
   "outputs": [
    {
     "name": "stdout",
     "output_type": "stream",
     "text": [
      "testing _sigmoid: \n",
      "\n",
      "\n",
      "testing _v_sigmoid: \n",
      "[[0.73105858 0.73105858]\n",
      " [0.73105858 0.88079708]\n",
      " [0.95257413 0.98201379]\n",
      " [0.99330715 0.99752738]]\n"
     ]
    }
   ],
   "source": [
    "print(\"testing _sigmoid: \")\n",
    "# for s in X_test1:\n",
    "#     print(logistic_regression.LogisticRegression._sigmoid(s))\n",
    "\n",
    "print(\"\\n\\ntesting _v_sigmoid: \")\n",
    "print(logistic_regression.LogisticRegression._v_sigmoid(X_test1))"
   ]
  },
  {
   "cell_type": "code",
   "execution_count": 10,
   "metadata": {},
   "outputs": [
    {
     "name": "stdout",
     "output_type": "stream",
     "text": [
      "2\n"
     ]
    },
    {
     "ename": "ValueError",
     "evalue": "operands could not be broadcast together with shapes (5,1) (4,1) ",
     "output_type": "error",
     "traceback": [
      "\u001b[0;31m---------------------------------------------------------------------------\u001b[0m",
      "\u001b[0;31mValueError\u001b[0m                                Traceback (most recent call last)",
      "Cell \u001b[0;32mIn[10], line 3\u001b[0m\n\u001b[1;32m      1\u001b[0m \u001b[39mprint\u001b[39m(X_test1\u001b[39m.\u001b[39mndim)\n\u001b[0;32m----> 3\u001b[0m LR\u001b[39m.\u001b[39;49mfit(X_test1,y_test1,\u001b[39m1\u001b[39;49m,\u001b[39m0.001\u001b[39;49m,\u001b[39m100\u001b[39;49m,\u001b[39mFalse\u001b[39;49;00m,degree\u001b[39m=\u001b[39;49m\u001b[39m3\u001b[39;49m)\n\u001b[1;32m      5\u001b[0m \u001b[39mprint\u001b[39m(LR\u001b[39m.\u001b[39mpredict(X_test1))\n",
      "File \u001b[0;32m~/EWU_CS/23Winter/ML_439/progs/prog5/code_logistic_regression/logistic_regression.py:58\u001b[0m, in \u001b[0;36mLogisticRegression.fit\u001b[0;34m(self, X, y, lam, eta, iterations, SGD, mini_batch_size, degree)\u001b[0m\n\u001b[1;32m     56\u001b[0m \u001b[39mif\u001b[39;00m SGD \u001b[39mis\u001b[39;00m \u001b[39mFalse\u001b[39;00m:\n\u001b[1;32m     57\u001b[0m     s \u001b[39m=\u001b[39m (X\u001b[39m@self\u001b[39m\u001b[39m.\u001b[39mw)\n\u001b[0;32m---> 58\u001b[0m     s \u001b[39m=\u001b[39m s \u001b[39m*\u001b[39;49m y\n\u001b[1;32m     59\u001b[0m     \u001b[39mself\u001b[39m\u001b[39m.\u001b[39mw \u001b[39m=\u001b[39m \u001b[39mself\u001b[39m\u001b[39m.\u001b[39mw \u001b[39m+\u001b[39m ((eta\u001b[39m/\u001b[39mN)\u001b[39m*\u001b[39m(X\u001b[39m.\u001b[39mT\u001b[39m@\u001b[39m(y\u001b[39m*\u001b[39mLogisticRegression\u001b[39m.\u001b[39m_v_sigmoid(s))))\n",
      "\u001b[0;31mValueError\u001b[0m: operands could not be broadcast together with shapes (5,1) (4,1) "
     ]
    }
   ],
   "source": [
    "print(X_test1.ndim)\n",
    "\n",
    "LR.fit(X_test1,y_test1,1,0.001,100,False,degree=3)\n",
    "\n",
    "print(LR.predict(X_test1))"
   ]
  },
  {
   "cell_type": "code",
   "execution_count": 6,
   "metadata": {},
   "outputs": [
    {
     "data": {
      "text/plain": [
       "array([[0],\n",
       "       [0],\n",
       "       [0],\n",
       "       [0],\n",
       "       [0],\n",
       "       [0],\n",
       "       [0]])"
      ]
     },
     "execution_count": 6,
     "metadata": {},
     "output_type": "execute_result"
    }
   ],
   "source": [
    "d = 7\n",
    "w = np.array([[0],]*(d))\n",
    "w\n",
    "\n"
   ]
  },
  {
   "cell_type": "code",
   "execution_count": 7,
   "metadata": {},
   "outputs": [
    {
     "data": {
      "text/plain": [
       "array([[1, 0],\n",
       "       [1, 0],\n",
       "       [1, 0],\n",
       "       [1, 0],\n",
       "       [1, 0],\n",
       "       [1, 0],\n",
       "       [1, 0]])"
      ]
     },
     "execution_count": 7,
     "metadata": {},
     "output_type": "execute_result"
    }
   ],
   "source": [
    "w = np.insert(w, 0, 1, axis=1)\n",
    "w"
   ]
  },
  {
   "cell_type": "code",
   "execution_count": 9,
   "metadata": {},
   "outputs": [
    {
     "data": {
      "text/plain": [
       "array([[ 1.],\n",
       "       [ 1.],\n",
       "       [ 1.],\n",
       "       [ 1.],\n",
       "       [ 1.],\n",
       "       [ 1.],\n",
       "       [-1.],\n",
       "       [ 1.],\n",
       "       [ 1.],\n",
       "       [-1.]])"
      ]
     },
     "execution_count": 9,
     "metadata": {},
     "output_type": "execute_result"
    }
   ],
   "source": [
    "pred = np.array([[ 0.02089376],\n",
    " [ 0.00692787],\n",
    " [ 0.01841312],\n",
    " [ 0.00350539],\n",
    " [ 0.00770415],\n",
    " [ 0.01954956],\n",
    " [-0.00406338],\n",
    " [ 0.01722698],\n",
    " [ 0.00311387],\n",
    " [-0.00169806]])\n",
    "np.sign(pred)"
   ]
  },
  {
   "cell_type": "code",
   "execution_count": null,
   "metadata": {},
   "outputs": [],
   "source": []
  }
 ],
 "metadata": {
  "kernelspec": {
   "display_name": "Python 3",
   "language": "python",
   "name": "python3"
  },
  "language_info": {
   "codemirror_mode": {
    "name": "ipython",
    "version": 3
   },
   "file_extension": ".py",
   "mimetype": "text/x-python",
   "name": "python",
   "nbconvert_exporter": "python",
   "pygments_lexer": "ipython3",
   "version": "3.8.6rc1"
  },
  "orig_nbformat": 4,
  "vscode": {
   "interpreter": {
    "hash": "aee8b7b246df8f9039afb4144a1f6fd8d2ca17a180786b69acc140d282b71a49"
   }
  }
 },
 "nbformat": 4,
 "nbformat_minor": 2
}
