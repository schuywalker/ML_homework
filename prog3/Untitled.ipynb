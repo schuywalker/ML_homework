{
 "cells": [
  {
   "cell_type": "code",
   "execution_count": 8,
   "metadata": {},
   "outputs": [],
   "source": [
    "from utils import MyUtils\n",
    "import numpy as np\n",
    "import math"
   ]
  },
  {
   "cell_type": "code",
   "execution_count": 9,
   "metadata": {},
   "outputs": [],
   "source": [
    "r = 5\n",
    "\n",
    "ex1 = [[1],[2],[3]]\n",
    "ex2 = [[1, 2], [2, 3], [3, 4]]\n",
    "ex3 = [[1,2,3],[2,3,4],[3,4,5]]\n",
    "\n",
    "X = ex2\n",
    "# Z = MyUtils.z_transform(X, degree = r)\n",
    "# print(Z)"
   ]
  },
  {
   "cell_type": "code",
   "execution_count": 10,
   "metadata": {},
   "outputs": [
    {
     "name": "stdout",
     "output_type": "stream",
     "text": [
      "2\n",
      "[2, 5, 9, 14, 20]\n"
     ]
    }
   ],
   "source": [
    "degree = 5\n",
    "B = list() # BucketSizes\n",
    "numFeatures = len(X[0]) # (d)\n",
    "\n",
    "for i in range(1,degree+1):\n",
    "    if (i <= 1):\n",
    "        B.append(int((i+numFeatures-1)/(numFeatures-1)))\n",
    "    else:\n",
    "        B.append(int(((i+numFeatures-1)/(numFeatures-1))+B[i-2]))\n",
    "\n",
    "print(numFeatures)        \n",
    "print(B)\n"
   ]
  },
  {
   "cell_type": "code",
   "execution_count": 11,
   "metadata": {},
   "outputs": [
    {
     "name": "stdout",
     "output_type": "stream",
     "text": [
      "[[1, 2], [2, 3], [3, 4]]\n"
     ]
    }
   ],
   "source": [
    "Z = X\n",
    "print(Z)"
   ]
  },
  {
   "cell_type": "code",
   "execution_count": 12,
   "metadata": {},
   "outputs": [
    {
     "name": "stdout",
     "output_type": "stream",
     "text": [
      "[0, 1] 0 1 1\n"
     ]
    }
   ],
   "source": [
    "dPrime = len(B)\n",
    "L = list()\n",
    "for i in range(numFeatures):\n",
    "    L.append(i)\n",
    "q = 0 # total size of all buckets before PREVIOUS bucket\n",
    "p = numFeatures -1# total size of all previous buckets\n",
    "g = numFeatures -1# index of the new column\n",
    "print(L,q,p,g)"
   ]
  },
  {
   "cell_type": "code",
   "execution_count": 13,
   "metadata": {},
   "outputs": [
    {
     "name": "stdout",
     "output_type": "stream",
     "text": [
      "L: [0, 1]\n",
      "Z: [[1, 2], [2, 3], [3, 4]]\n",
      "X: [[1, 2], [2, 3], [3, 4]]\n",
      "[0, 1]\n",
      "1 2\n",
      "2 3\n",
      "3 4\n",
      "\n",
      "\n",
      "K RIGHT HERE = 0\n",
      "temp:  [1, 4, 9]\n",
      "numFeatuers 2\n",
      "i:  2  j:  0  k:  0 g:  2 , L:  [0, 0, 0] , L[g]:  0\n",
      "\n",
      "\n",
      "K RIGHT HERE = 1\n",
      "temp:  [2, 6, 12]\n",
      "numFeatuers 2\n",
      "i:  2  j:  0  k:  1 g:  3 , L:  [0, 0, 1, 1] , L[g]:  1\n",
      "[0, 0, 1, 1]\n",
      "1 2 1 2\n",
      "2 3 4 6\n",
      "3 4 9 12\n",
      "\n",
      "\n",
      "K RIGHT HERE = 0\n",
      "temp:  [2, 6, 12]\n",
      "numFeatuers 2\n",
      "i:  2  j:  1  k:  0 g:  4 , L:  [0, 0, 1, 0, 0] , L[g]:  0\n",
      "\n",
      "\n",
      "K RIGHT HERE = 1\n",
      "temp:  [4, 9, 16]\n",
      "numFeatuers 2\n",
      "i:  2  j:  1  k:  1 g:  5 , L:  [0, 0, 1, 0, 1, 1] , L[g]:  1\n",
      "\n",
      "\n",
      "K RIGHT HERE = 1\n",
      "temp:  [2, 12, 36]\n",
      "numFeatuers 2\n",
      "i:  2  j:  2  k:  1 g:  6 , L:  [0, 0, 1, 0, 1, 1, 1] , L[g]:  1\n",
      "\n",
      "\n",
      "K RIGHT HERE = 0\n",
      "temp:  [2, 12, 36]\n",
      "numFeatuers 2\n",
      "i:  2  j:  3  k:  0 g:  7 , L:  [0, 0, 1, 0, 1, 1, 0, 0] , L[g]:  0\n",
      "\n",
      "\n",
      "K RIGHT HERE = 1\n",
      "temp:  [4, 18, 48]\n",
      "numFeatuers 2\n",
      "i:  2  j:  3  k:  1 g:  8 , L:  [0, 0, 1, 0, 1, 1, 0, 1, 1] , L[g]:  1\n",
      "\n",
      "\n",
      "K RIGHT HERE = 1\n",
      "temp:  [4, 18, 48]\n",
      "numFeatuers 2\n",
      "i:  2  j:  4  k:  1 g:  9 , L:  [0, 0, 1, 0, 1, 1, 0, 1, 1, 1] , L[g]:  1\n",
      "\n",
      "\n",
      "K RIGHT HERE = 1\n",
      "temp:  [8, 27, 64]\n",
      "numFeatuers 2\n",
      "i:  2  j:  5  k:  1 g:  10 , L:  [0, 0, 1, 0, 1, 1, 0, 1, 1, 1, 1] , L[g]:  1\n",
      "\n",
      "\n",
      "K RIGHT HERE = 0\n",
      "temp:  [2, 24, 108]\n",
      "numFeatuers 2\n",
      "i:  2  j:  6  k:  0 g:  11 , L:  [0, 0, 1, 0, 1, 1, 0, 1, 1, 1, 0, 0] , L[g]:  0\n",
      "\n",
      "\n",
      "K RIGHT HERE = 1\n",
      "temp:  [4, 36, 144]\n",
      "numFeatuers 2\n",
      "i:  2  j:  6  k:  1 g:  12 , L:  [0, 0, 1, 0, 1, 1, 0, 1, 1, 1, 0, 1, 1] , L[g]:  1\n",
      "\n",
      "\n",
      "K RIGHT HERE = 1\n",
      "temp:  [4, 36, 144]\n",
      "numFeatuers 2\n",
      "i:  2  j:  7  k:  1 g:  13 , L:  [0, 0, 1, 0, 1, 1, 0, 1, 1, 1, 0, 1, 1, 1] , L[g]:  1\n",
      "\n",
      "\n",
      "K RIGHT HERE = 1\n",
      "temp:  [8, 54, 192]\n",
      "numFeatuers 2\n",
      "i:  2  j:  8  k:  1 g:  14 , L:  [0, 0, 1, 0, 1, 1, 0, 1, 1, 1, 0, 1, 1, 1, 1] , L[g]:  1\n",
      "\n",
      "\n",
      "K RIGHT HERE = 1\n",
      "temp:  [8, 54, 192]\n",
      "numFeatuers 2\n",
      "i:  2  j:  9  k:  1 g:  15 , L:  [0, 0, 1, 0, 1, 1, 0, 1, 1, 1, 0, 1, 1, 1, 1, 1] , L[g]:  1\n",
      "[0, 0, 1, 0, 1, 1, 0, 1, 1, 1, 0, 1, 1, 1, 1, 1]\n",
      "1 2 1 2 2 4 2 2 4 4 8 2 4 4 8 8\n",
      "2 3 4 6 6 9 12 12 18 18 27 24 36 36 54 54\n",
      "3 4 9 12 12 16 36 36 48 48 64 108 144 144 192 192\n",
      "\n",
      "\n",
      "K RIGHT HERE = 0\n",
      "temp:  [8, 54, 192]\n",
      "numFeatuers 2\n",
      "i:  2  j:  10  k:  0 g:  16 , L:  [0, 0, 1, 0, 1, 1, 0, 1, 1, 1, 0, 1, 1, 1, 1, 0, 0] , L[g]:  0\n",
      "\n",
      "\n",
      "K RIGHT HERE = 1\n",
      "temp:  [16, 81, 256]\n",
      "numFeatuers 2\n",
      "i:  2  j:  10  k:  1 g:  17 , L:  [0, 0, 1, 0, 1, 1, 0, 1, 1, 1, 0, 1, 1, 1, 1, 0, 1, 1] , L[g]:  1\n",
      "\n",
      "\n",
      "K RIGHT HERE = 1\n",
      "temp:  [4, 72, 432]\n",
      "numFeatuers 2\n",
      "i:  2  j:  11  k:  1 g:  18 , L:  [0, 0, 1, 0, 1, 1, 0, 1, 1, 1, 0, 1, 1, 1, 1, 0, 1, 1, 1] , L[g]:  1\n",
      "\n",
      "\n",
      "K RIGHT HERE = 1\n",
      "temp:  [8, 108, 576]\n",
      "numFeatuers 2\n",
      "i:  2  j:  12  k:  1 g:  19 , L:  [0, 0, 1, 0, 1, 1, 0, 1, 1, 1, 0, 1, 1, 1, 1, 0, 1, 1, 1, 1] , L[g]:  1\n",
      "\n",
      "\n",
      "K RIGHT HERE = 1\n",
      "temp:  [8, 108, 576]\n",
      "numFeatuers 2\n",
      "i:  2  j:  13  k:  1 g:  20 , L:  [0, 0, 1, 0, 1, 1, 0, 1, 1, 1, 0, 1, 1, 1, 1, 0, 1, 1, 1, 1, 1] , L[g]:  1\n",
      "\n",
      "\n",
      "K RIGHT HERE = 1\n",
      "temp:  [16, 162, 768]\n",
      "numFeatuers 2\n",
      "i:  2  j:  14  k:  1 g:  21 , L:  [0, 0, 1, 0, 1, 1, 0, 1, 1, 1, 0, 1, 1, 1, 1, 0, 1, 1, 1, 1, 1, 1] , L[g]:  1\n",
      "\n",
      "\n",
      "K RIGHT HERE = 0\n",
      "temp:  [8, 108, 576]\n",
      "numFeatuers 2\n",
      "i:  2  j:  15  k:  0 g:  22 , L:  [0, 0, 1, 0, 1, 1, 0, 1, 1, 1, 0, 1, 1, 1, 1, 0, 1, 1, 1, 1, 1, 0, 0] , L[g]:  0\n",
      "\n",
      "\n",
      "K RIGHT HERE = 1\n",
      "temp:  [16, 162, 768]\n",
      "numFeatuers 2\n",
      "i:  2  j:  15  k:  1 g:  23 , L:  [0, 0, 1, 0, 1, 1, 0, 1, 1, 1, 0, 1, 1, 1, 1, 0, 1, 1, 1, 1, 1, 0, 1, 1] , L[g]:  1\n",
      "\n",
      "\n",
      "K RIGHT HERE = 1\n",
      "temp:  [16, 162, 768]\n",
      "numFeatuers 2\n",
      "i:  2  j:  16  k:  1 g:  24 , L:  [0, 0, 1, 0, 1, 1, 0, 1, 1, 1, 0, 1, 1, 1, 1, 0, 1, 1, 1, 1, 1, 0, 1, 1, 1] , L[g]:  1\n",
      "\n",
      "\n",
      "K RIGHT HERE = 1\n",
      "temp:  [32, 243, 1024]\n",
      "numFeatuers 2\n",
      "i:  2  j:  17  k:  1 g:  25 , L:  [0, 0, 1, 0, 1, 1, 0, 1, 1, 1, 0, 1, 1, 1, 1, 0, 1, 1, 1, 1, 1, 0, 1, 1, 1, 1] , L[g]:  1\n",
      "\n",
      "\n",
      "K RIGHT HERE = 1\n",
      "temp:  [8, 216, 1728]\n",
      "numFeatuers 2\n",
      "i:  2  j:  18  k:  1 g:  26 , L:  [0, 0, 1, 0, 1, 1, 0, 1, 1, 1, 0, 1, 1, 1, 1, 0, 1, 1, 1, 1, 1, 0, 1, 1, 1, 1, 1] , L[g]:  1\n"
     ]
    }
   ],
   "source": [
    "print(\"L:\",L)\n",
    "print(\"Z:\",Z)\n",
    "print(\"X:\",X) \n",
    "for i in range(2,r): # for each dimension elevation\n",
    "#     print(\"hi3\")\n",
    "    print(L)\n",
    "#     print(\"i: \", i, \"Z: \")\n",
    "    for r in Z:\n",
    "        print(*r)\n",
    "    for j in range(q,p): # for each element in previous bucket\n",
    "#         print(\"hi2 g=\", g)\n",
    "        for k in range(L[j],numFeatures):\n",
    "            print(\"\\n\\nK RIGHT HERE =\", k)\n",
    "#             for each feature, starting at \n",
    "#             the last buckets corresponding largestFeatures list\n",
    "\n",
    "            temp = []\n",
    "            for ii in range(len(Z)):\n",
    "                temp.append(Z[ii][j]*X[ii][k])\n",
    "              \n",
    "            print(\"temp: \",temp)\n",
    "            temp2 = np.arange(len(Z))\n",
    "            for i in range(len(temp)):\n",
    "#                 temp2[i] = temp[i]\n",
    "                Z[i].append(temp[i])\n",
    "#             np.append(Z,temp2.reshape(-1,1),1)\n",
    "            \n",
    "            \n",
    "            print(\"numFeatuers\", numFeatures)\n",
    "            L.append(k)\n",
    "            L[g] = k\n",
    "            g += 1\n",
    "            print(\"i: \",i ,\" j: \", j,\" k: \",k, \"g: \",g, \", L: \", L, \", L[g]: \", L[g])\n",
    "\n",
    "    \n",
    "    q = p # new total size of all previous buckets\n",
    "    p = p + B[i]"
   ]
  },
  {
   "cell_type": "code",
   "execution_count": 14,
   "metadata": {},
   "outputs": [
    {
     "name": "stdout",
     "output_type": "stream",
     "text": [
      "[8, 216, 1728]\n",
      "0\n",
      "1\n",
      "2\n"
     ]
    },
    {
     "data": {
      "text/plain": [
       "array([[   1,    2,    1,    2,    2,    4,    2,    2,    4,    4,    8,\n",
       "           2,    4,    4,    8,    8,    8,   16,    4,    8,    8,   16,\n",
       "           8,   16,   16,   32,    8,    8],\n",
       "       [   2,    3,    4,    6,    6,    9,   12,   12,   18,   18,   27,\n",
       "          24,   36,   36,   54,   54,   54,   81,   72,  108,  108,  162,\n",
       "         108,  162,  162,  243,  216,  216],\n",
       "       [   3,    4,    9,   12,   12,   16,   36,   36,   48,   48,   64,\n",
       "         108,  144,  144,  192,  192,  192,  256,  432,  576,  576,  768,\n",
       "         576,  768,  768, 1024, 1728, 1728]])"
      ]
     },
     "execution_count": 14,
     "metadata": {},
     "output_type": "execute_result"
    }
   ],
   "source": [
    "print(temp)\n",
    "temp2 = np.arange(len(Z))\n",
    "for i in range(len(Z)):\n",
    "    print(i)\n",
    "    temp2[i] = temp[i]\n",
    "\n",
    "np.append(Z,temp2.reshape(-1,1),1)\n",
    "# print(temp2)"
   ]
  },
  {
   "cell_type": "code",
   "execution_count": null,
   "metadata": {},
   "outputs": [],
   "source": []
  }
 ],
 "metadata": {
  "kernelspec": {
   "display_name": "Python 3 (ipykernel)",
   "language": "python",
   "name": "python3"
  },
  "language_info": {
   "codemirror_mode": {
    "name": "ipython",
    "version": 3
   },
   "file_extension": ".py",
   "mimetype": "text/x-python",
   "name": "python",
   "nbconvert_exporter": "python",
   "pygments_lexer": "ipython3",
   "version": "3.8.6rc1"
  }
 },
 "nbformat": 4,
 "nbformat_minor": 2
}
