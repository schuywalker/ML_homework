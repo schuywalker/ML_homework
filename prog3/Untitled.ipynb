{
 "cells": [
  {
   "cell_type": "code",
   "execution_count": 224,
   "metadata": {},
   "outputs": [],
   "source": [
    "from utils import MyUtils\n",
    "import numpy as np\n",
    "import math"
   ]
  },
  {
   "cell_type": "code",
   "execution_count": 256,
   "metadata": {},
   "outputs": [],
   "source": [
    "r = 5\n",
    "\n",
    "ex1 = [[1],[2],[3]]\n",
    "ex2 = [[1, 2], [2, 3], [3, 4]]\n",
    "ex3 = [[1,2,3],[2,3,4],[3,4,5]]\n",
    "\n",
    "X = ex2\n",
    "# Z = MyUtils.z_transform(X, degree = r)\n",
    "# print(Z)"
   ]
  },
  {
   "cell_type": "code",
   "execution_count": 257,
   "metadata": {},
   "outputs": [
    {
     "name": "stdout",
     "output_type": "stream",
     "text": [
      "2\n",
      "[2, 5, 9, 14, 20]\n"
     ]
    }
   ],
   "source": [
    "degree = 5\n",
    "B = list() # BucketSizes\n",
    "numFeatures = len(X[0]) # (d)\n",
    "\n",
    "for i in range(1,degree+1):\n",
    "    if (i <= 1):\n",
    "        B.append(int((i+numFeatures-1)/(numFeatures-1)))\n",
    "    else:\n",
    "        B.append(int(((i+numFeatures-1)/(numFeatures-1))+B[i-2]))\n",
    "\n",
    "print(numFeatures)        \n",
    "print(B)\n"
   ]
  },
  {
   "cell_type": "code",
   "execution_count": 258,
   "metadata": {},
   "outputs": [
    {
     "name": "stdout",
     "output_type": "stream",
     "text": [
      "[[1, 2], [2, 3], [3, 4]]\n"
     ]
    }
   ],
   "source": [
    "Z = X\n",
    "print(Z)"
   ]
  },
  {
   "cell_type": "code",
   "execution_count": 259,
   "metadata": {},
   "outputs": [
    {
     "name": "stdout",
     "output_type": "stream",
     "text": [
      "[0, 1] 0 1 1\n"
     ]
    }
   ],
   "source": [
    "dPrime = len(B)\n",
    "L = list()\n",
    "for i in range(numFeatures):\n",
    "    L.append(i)\n",
    "q = 0 # total size of all buckets before PREVIOUS bucket\n",
    "p = numFeatures -1# total size of all previous buckets\n",
    "g = numFeatures -1# index of the new column\n",
    "print(L,q,p,g)"
   ]
  },
  {
   "cell_type": "code",
   "execution_count": 260,
   "metadata": {},
   "outputs": [
    {
     "name": "stdout",
     "output_type": "stream",
     "text": [
      "9\n"
     ]
    }
   ],
   "source": [
    "print(sum(B[2:3]))"
   ]
  },
  {
   "cell_type": "code",
   "execution_count": 261,
   "metadata": {},
   "outputs": [
    {
     "name": "stdout",
     "output_type": "stream",
     "text": [
      "L: [0, 1]\n",
      "Z: [[1, 2], [2, 3], [3, 4]]\n",
      "X: [[1, 2], [2, 3], [3, 4]]\n",
      "hi3\n",
      "[0, 1]\n",
      "i:  2 Z: \n",
      "1 2\n",
      "2 3\n",
      "3 4\n",
      "\n",
      "\n",
      "K RIGHT HERE = 0\n",
      "temp:  [1, 4, 9]\n",
      "numFeatuers 2\n",
      "i:  2  j:  0  k:  0 g:  2 , L:  [0, 1, 0] , L[g]:  0\n",
      "\n",
      "\n",
      "K RIGHT HERE = 1\n",
      "temp:  [2, 6, 12]\n",
      "numFeatuers 2\n",
      "i:  2  j:  0  k:  1 g:  3 , L:  [0, 1, 0, 1] , L[g]:  1\n",
      "hi3\n",
      "[0, 1, 0, 1]\n",
      "i:  3 Z: \n",
      "1 2 1 2\n",
      "2 3 4 6\n",
      "3 4 9 12\n",
      "\n",
      "\n",
      "K RIGHT HERE = 1\n",
      "temp:  [4, 9, 16]\n",
      "numFeatuers 2\n",
      "i:  2  j:  1  k:  1 g:  4 , L:  [0, 1, 0, 1, 1] , L[g]:  1\n",
      "\n",
      "\n",
      "K RIGHT HERE = 0\n",
      "temp:  [1, 8, 27]\n",
      "numFeatuers 2\n",
      "i:  2  j:  2  k:  0 g:  5 , L:  [0, 1, 0, 1, 1, 0] , L[g]:  0\n",
      "\n",
      "\n",
      "K RIGHT HERE = 1\n",
      "temp:  [2, 12, 36]\n",
      "numFeatuers 2\n",
      "i:  2  j:  2  k:  1 g:  6 , L:  [0, 1, 0, 1, 1, 0, 1] , L[g]:  1\n",
      "\n",
      "\n",
      "K RIGHT HERE = 1\n",
      "temp:  [4, 18, 48]\n",
      "numFeatuers 2\n",
      "i:  2  j:  3  k:  1 g:  7 , L:  [0, 1, 0, 1, 1, 0, 1, 1] , L[g]:  1\n",
      "\n",
      "\n",
      "K RIGHT HERE = 1\n",
      "temp:  [8, 27, 64]\n",
      "numFeatuers 2\n",
      "i:  2  j:  4  k:  1 g:  8 , L:  [0, 1, 0, 1, 1, 0, 1, 1, 1] , L[g]:  1\n",
      "\n",
      "\n",
      "K RIGHT HERE = 0\n",
      "temp:  [1, 16, 81]\n",
      "numFeatuers 2\n",
      "i:  2  j:  5  k:  0 g:  9 , L:  [0, 1, 0, 1, 1, 0, 1, 1, 1, 0] , L[g]:  0\n",
      "\n",
      "\n",
      "K RIGHT HERE = 1\n",
      "temp:  [2, 24, 108]\n",
      "numFeatuers 2\n",
      "i:  2  j:  5  k:  1 g:  10 , L:  [0, 1, 0, 1, 1, 0, 1, 1, 1, 0, 1] , L[g]:  1\n",
      "\n",
      "\n",
      "K RIGHT HERE = 1\n",
      "temp:  [4, 36, 144]\n",
      "numFeatuers 2\n",
      "i:  2  j:  6  k:  1 g:  11 , L:  [0, 1, 0, 1, 1, 0, 1, 1, 1, 0, 1, 1] , L[g]:  1\n",
      "\n",
      "\n",
      "K RIGHT HERE = 1\n",
      "temp:  [8, 54, 192]\n",
      "numFeatuers 2\n",
      "i:  2  j:  7  k:  1 g:  12 , L:  [0, 1, 0, 1, 1, 0, 1, 1, 1, 0, 1, 1, 1] , L[g]:  1\n",
      "\n",
      "\n",
      "K RIGHT HERE = 1\n",
      "temp:  [16, 81, 256]\n",
      "numFeatuers 2\n",
      "i:  2  j:  8  k:  1 g:  13 , L:  [0, 1, 0, 1, 1, 0, 1, 1, 1, 0, 1, 1, 1, 1] , L[g]:  1\n",
      "\n",
      "\n",
      "K RIGHT HERE = 0\n",
      "temp:  [1, 32, 243]\n",
      "numFeatuers 2\n",
      "i:  2  j:  9  k:  0 g:  14 , L:  [0, 1, 0, 1, 1, 0, 1, 1, 1, 0, 1, 1, 1, 1, 0] , L[g]:  0\n",
      "\n",
      "\n",
      "K RIGHT HERE = 1\n",
      "temp:  [2, 48, 324]\n",
      "numFeatuers 2\n",
      "i:  2  j:  9  k:  1 g:  15 , L:  [0, 1, 0, 1, 1, 0, 1, 1, 1, 0, 1, 1, 1, 1, 0, 1] , L[g]:  1\n",
      "hi3\n",
      "[0, 1, 0, 1, 1, 0, 1, 1, 1, 0, 1, 1, 1, 1, 0, 1]\n",
      "i:  4 Z: \n",
      "1 2 1 2 4 1 2 4 8 1 2 4 8 16 1 2\n",
      "2 3 4 6 9 8 12 18 27 16 24 36 54 81 32 48\n",
      "3 4 9 12 16 27 36 48 64 81 108 144 192 256 243 324\n",
      "\n",
      "\n",
      "K RIGHT HERE = 1\n",
      "temp:  [4, 72, 432]\n",
      "numFeatuers 2\n",
      "i:  2  j:  10  k:  1 g:  16 , L:  [0, 1, 0, 1, 1, 0, 1, 1, 1, 0, 1, 1, 1, 1, 0, 1, 1] , L[g]:  1\n",
      "\n",
      "\n",
      "K RIGHT HERE = 1\n",
      "temp:  [8, 108, 576]\n",
      "numFeatuers 2\n",
      "i:  2  j:  11  k:  1 g:  17 , L:  [0, 1, 0, 1, 1, 0, 1, 1, 1, 0, 1, 1, 1, 1, 0, 1, 1, 1] , L[g]:  1\n",
      "\n",
      "\n",
      "K RIGHT HERE = 1\n",
      "temp:  [16, 162, 768]\n",
      "numFeatuers 2\n",
      "i:  2  j:  12  k:  1 g:  18 , L:  [0, 1, 0, 1, 1, 0, 1, 1, 1, 0, 1, 1, 1, 1, 0, 1, 1, 1, 1] , L[g]:  1\n",
      "\n",
      "\n",
      "K RIGHT HERE = 1\n",
      "temp:  [32, 243, 1024]\n",
      "numFeatuers 2\n",
      "i:  2  j:  13  k:  1 g:  19 , L:  [0, 1, 0, 1, 1, 0, 1, 1, 1, 0, 1, 1, 1, 1, 0, 1, 1, 1, 1, 1] , L[g]:  1\n",
      "\n",
      "\n",
      "K RIGHT HERE = 0\n",
      "temp:  [1, 64, 729]\n",
      "numFeatuers 2\n",
      "i:  2  j:  14  k:  0 g:  20 , L:  [0, 1, 0, 1, 1, 0, 1, 1, 1, 0, 1, 1, 1, 1, 0, 1, 1, 1, 1, 1, 0] , L[g]:  0\n",
      "\n",
      "\n",
      "K RIGHT HERE = 1\n",
      "temp:  [2, 96, 972]\n",
      "numFeatuers 2\n",
      "i:  2  j:  14  k:  1 g:  21 , L:  [0, 1, 0, 1, 1, 0, 1, 1, 1, 0, 1, 1, 1, 1, 0, 1, 1, 1, 1, 1, 0, 1] , L[g]:  1\n",
      "\n",
      "\n",
      "K RIGHT HERE = 1\n",
      "temp:  [4, 144, 1296]\n",
      "numFeatuers 2\n",
      "i:  2  j:  15  k:  1 g:  22 , L:  [0, 1, 0, 1, 1, 0, 1, 1, 1, 0, 1, 1, 1, 1, 0, 1, 1, 1, 1, 1, 0, 1, 1] , L[g]:  1\n",
      "\n",
      "\n",
      "K RIGHT HERE = 1\n",
      "temp:  [8, 216, 1728]\n",
      "numFeatuers 2\n",
      "i:  2  j:  16  k:  1 g:  23 , L:  [0, 1, 0, 1, 1, 0, 1, 1, 1, 0, 1, 1, 1, 1, 0, 1, 1, 1, 1, 1, 0, 1, 1, 1] , L[g]:  1\n",
      "\n",
      "\n",
      "K RIGHT HERE = 1\n",
      "temp:  [16, 324, 2304]\n",
      "numFeatuers 2\n",
      "i:  2  j:  17  k:  1 g:  24 , L:  [0, 1, 0, 1, 1, 0, 1, 1, 1, 0, 1, 1, 1, 1, 0, 1, 1, 1, 1, 1, 0, 1, 1, 1, 1] , L[g]:  1\n",
      "\n",
      "\n",
      "K RIGHT HERE = 1\n",
      "temp:  [32, 486, 3072]\n",
      "numFeatuers 2\n",
      "i:  2  j:  18  k:  1 g:  25 , L:  [0, 1, 0, 1, 1, 0, 1, 1, 1, 0, 1, 1, 1, 1, 0, 1, 1, 1, 1, 1, 0, 1, 1, 1, 1, 1] , L[g]:  1\n"
     ]
    }
   ],
   "source": [
    "print(\"L:\",L)\n",
    "print(\"Z:\",Z)\n",
    "print(\"X:\",X) \n",
    "for i in range(2,r): # for each dimension elevation\n",
    "    print(\"hi3\")\n",
    "#     L.append([None] * B[i])\n",
    "    print(L)\n",
    "    print(\"i: \", i, \"Z: \")\n",
    "    for r in Z:\n",
    "        print(*r)\n",
    "    for j in range(q,p): # for each element in previous bucket\n",
    "#         print(\"hi2 g=\", g)\n",
    "        for k in range(L[j],numFeatures):\n",
    "            print(\"\\n\\nK RIGHT HERE =\", k)\n",
    "#             for each feature, starting at \n",
    "#             the last buckets corresponding largestFeatures list\n",
    "\n",
    "            temp = []\n",
    "            for ii in range(len(Z)):\n",
    "                temp.append(Z[ii][j]*X[ii][k])\n",
    "              \n",
    "            print(\"temp: \",temp)\n",
    "            temp2 = np.arange(len(Z))\n",
    "            for i in range(len(temp)):\n",
    "#                 temp2[i] = temp[i]\n",
    "                Z[i].append(temp[i])\n",
    "#             np.append(Z,temp2.reshape(-1,1),1)\n",
    "            \n",
    "            \n",
    "            print(\"numFeatuers\", numFeatures)\n",
    "            L.append(k)\n",
    "            g += 1\n",
    "            print(\"i: \",i ,\" j: \", j,\" k: \",k, \"g: \",g, \", L: \", L, \", L[g]: \", L[g])\n",
    "\n",
    "    \n",
    "    q = p # new total size of all previous buckets\n",
    "    p = p + B[i]"
   ]
  },
  {
   "cell_type": "code",
   "execution_count": 210,
   "metadata": {},
   "outputs": [
    {
     "name": "stdout",
     "output_type": "stream",
     "text": [
      "[]\n",
      "0\n"
     ]
    },
    {
     "ename": "IndexError",
     "evalue": "list index out of range",
     "output_type": "error",
     "traceback": [
      "\u001b[0;31m---------------------------------------------------------------------------\u001b[0m",
      "\u001b[0;31mIndexError\u001b[0m                                Traceback (most recent call last)",
      "Cell \u001b[0;32mIn[210], line 5\u001b[0m\n\u001b[1;32m      3\u001b[0m \u001b[38;5;28;01mfor\u001b[39;00m i \u001b[38;5;129;01min\u001b[39;00m \u001b[38;5;28mrange\u001b[39m(\u001b[38;5;28mlen\u001b[39m(Z)):\n\u001b[1;32m      4\u001b[0m     \u001b[38;5;28mprint\u001b[39m(i)\n\u001b[0;32m----> 5\u001b[0m     temp2[i] \u001b[38;5;241m=\u001b[39m \u001b[43mtemp\u001b[49m\u001b[43m[\u001b[49m\u001b[43mi\u001b[49m\u001b[43m]\u001b[49m\n\u001b[1;32m      7\u001b[0m np\u001b[38;5;241m.\u001b[39mappend(Z,temp2\u001b[38;5;241m.\u001b[39mreshape(\u001b[38;5;241m-\u001b[39m\u001b[38;5;241m1\u001b[39m,\u001b[38;5;241m1\u001b[39m),\u001b[38;5;241m1\u001b[39m)\n\u001b[1;32m      8\u001b[0m \u001b[38;5;66;03m# print(temp2)\u001b[39;00m\n",
      "\u001b[0;31mIndexError\u001b[0m: list index out of range"
     ]
    }
   ],
   "source": [
    "print(temp)\n",
    "temp2 = np.arange(len(Z))\n",
    "for i in range(len(Z)):\n",
    "    print(i)\n",
    "    temp2[i] = temp[i]\n",
    "\n",
    "np.append(Z,temp2.reshape(-1,1),1)\n",
    "# print(temp2)"
   ]
  },
  {
   "cell_type": "code",
   "execution_count": null,
   "metadata": {},
   "outputs": [],
   "source": []
  }
 ],
 "metadata": {
  "kernelspec": {
   "display_name": "Python 3 (ipykernel)",
   "language": "python",
   "name": "python3"
  },
  "language_info": {
   "codemirror_mode": {
    "name": "ipython",
    "version": 3
   },
   "file_extension": ".py",
   "mimetype": "text/x-python",
   "name": "python",
   "nbconvert_exporter": "python",
   "pygments_lexer": "ipython3",
   "version": "3.8.6rc1"
  }
 },
 "nbformat": 4,
 "nbformat_minor": 2
}
