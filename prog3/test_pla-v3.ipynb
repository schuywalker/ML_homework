{
 "cells": [
  {
   "cell_type": "markdown",
   "metadata": {},
   "source": [
    "Notebook for testing the PLA code. \n",
    "Author: Bojian Xu, bojianxu@ewu.edu"
   ]
  },
  {
   "cell_type": "code",
   "execution_count": 1,
   "metadata": {},
   "outputs": [],
   "source": [
    "# import sys\n",
    "# !{sys.executable} -m pip install matplotlib\n",
    "import numpy as np\n",
    "from IPython.display import clear_output\n",
    "from numpy.random import seed as seed\n",
    "from numpy.random import rand as rand\n",
    "import matplotlib.pyplot as plt\n",
    "import math\n",
    "\n",
    "import pla\n",
    "#import sys\n",
    "#sys.path.append('..')\n",
    "\n",
    "from utils import MyUtils"
   ]
  },
  {
   "cell_type": "code",
   "execution_count": 2,
   "metadata": {},
   "outputs": [],
   "source": [
    "seed()"
   ]
  },
  {
   "cell_type": "code",
   "execution_count": 3,
   "metadata": {},
   "outputs": [],
   "source": [
    "n = 2000 #number of samples\n",
    "epochs = 1000  # number of epoches for the pocket based run"
   ]
  },
  {
   "cell_type": "code",
   "execution_count": 4,
   "metadata": {},
   "outputs": [],
   "source": [
    "r = 2  # Z space degree   #only support: degree <= 4 for demo purpose. Don't have time to code out the generic form for any degree"
   ]
  },
  {
   "cell_type": "code",
   "execution_count": 5,
   "metadata": {},
   "outputs": [],
   "source": [
    "delta = 0.01   # a parameter related to data plotting"
   ]
  },
  {
   "cell_type": "code",
   "execution_count": 6,
   "metadata": {},
   "outputs": [],
   "source": [
    "messed  = True       # generate a few outliers or not\n",
    "#messed = False \n",
    "mess_percent = 0.02  # percentage of outliers "
   ]
  },
  {
   "cell_type": "code",
   "execution_count": 7,
   "metadata": {},
   "outputs": [],
   "source": [
    "# a function that plots the classifer curve\n",
    "\n",
    "def display_w_2D(w, color, degree = 1):\n",
    "    ''' only support: degree <= 4 for demo purpose\n",
    "        Don't have time to code out the generic form for any degree\n",
    "    '''\n",
    "    xrange = np.arange(0.0, 1.0, delta)\n",
    "    yrange = np.arange(0.0, 1.0, delta)\n",
    "    x1, x2 = np.meshgrid(xrange,yrange)\n",
    "    \n",
    "    if degree == 1:\n",
    "        F = w[0] + w[1] * x1 + w[2] * x2\n",
    "    elif degree == 2:\n",
    "        F = w[0] + w[1] * x1 + w[2] * x2 \\\n",
    "            + w[3] * x1 * x1 + w[4] * x1 * x2 + w[5] * x2 * x2                 \n",
    "    elif degree == 3:\n",
    "        F = w[0] + w[1] * x1 + w[2] * x2 \\\n",
    "            + w[3] * x1 * x1 + w[4] * x1 * x2 + w[5] * x2 * x2   \\\n",
    "            + w[6] * x1 * x1 * x1 + w[7] * x1 * x1 * x2 + w[8] * x1 * x2 * x2 + w[9] * x2 * x2 * x2    \n",
    "    elif degree == 4:\n",
    "        F = w[0] + w[1] * x1 + w[2] * x2 \\\n",
    "            + w[3] * x1 * x1 + w[4] * x1 * x2 + w[5] * x2 * x2   \\\n",
    "            + w[6] * x1 * x1 * x1 + w[7] * x1 * x1 * x2 + w[8] * x1 * x2 * x2 + w[9] * x2 * x2 * x2\\\n",
    "            + w[10] * x1 * x1 * x1 * x1 + w[11] * x1 * x1 * x1 * x2 + w[12] * x1 * x1 * x2 * x2 + w[13] * x1 * x2 * x2 * x2 + w[14] * x2 * x2 * x2 * x2\n",
    "\n",
    "    else:\n",
    "        print('Z space degree is too high. Not supported now\\n')\n",
    "        quit()\n",
    "\n",
    "    plt.contour(x1, x2, (F), [0], colors = color)"
   ]
  },
  {
   "cell_type": "code",
   "execution_count": 8,
   "metadata": {},
   "outputs": [],
   "source": [
    "# a function that  generates a w_star, the classifer that the PLA will try to find\n",
    "def w_star_gen_2d(degree = 1):\n",
    "    ''' only suppot degree <= 4 for demo purpose. \n",
    "        Don't have time to code out the generic form for any degree\n",
    "    '''\n",
    "    if degree == 1:\n",
    "        w_star = rand(3,1) * np.sign(rand(3,1)-0.5)\n",
    "    elif degree == 2:\n",
    "        w_star = rand(6,1) * np.sign(rand(6,1)-0.5)\n",
    "    elif degree == 3:\n",
    "        w_star = rand(10,1) * np.sign(rand(10,1)-0.5)\n",
    "    elif degree == 4:\n",
    "        w_star = rand(15,1) * np.sign(rand(15,1)-0.5)\n",
    "    \n",
    "    else:\n",
    "        print('Z space degree is too high. Not supported now\\n')\n",
    "        quit()\n",
    "\n",
    "    return w_star"
   ]
  },
  {
   "cell_type": "markdown",
   "metadata": {},
   "source": [
    "### If you do not see one or multiple green line(s) being displayed in the result of the next cell, run the cell again until you see such a green line. "
   ]
  },
  {
   "cell_type": "code",
   "execution_count": 11,
   "metadata": {},
   "outputs": [
    {
     "name": "stdout",
     "output_type": "stream",
     "text": [
      "w_star: \n",
      " [[-0.52386839]\n",
      " [-0.59716215]\n",
      " [-0.20273094]\n",
      " [ 0.60383328]\n",
      " [ 0.14820504]\n",
      " [ 0.79931932]]\n"
     ]
    },
    {
     "data": {
      "image/png": "[encoded data removed]",
      "text/plain": [
       "<Figure size 640x480 with 1 Axes>"
      ]
     },
     "metadata": {},
     "output_type": "display_data"
    }
   ],
   "source": [
    "# randomly generate a target weight vector the PLA is going to search for\n",
    "w_star = w_star_gen_2d(degree = r)\n",
    "display_w_2D(w_star, color='green', degree = r)\n",
    "print('w_star: \\n', w_star)"
   ]
  },
  {
   "cell_type": "code",
   "execution_count": 14,
   "metadata": {},
   "outputs": [
    {
     "name": "stdout",
     "output_type": "stream",
     "text": [
      "Z\n",
      "[[1.         1.         1.         ... 1.         1.         1.        ]\n",
      " [0.01317281 0.93232406 0.55994049 ... 0.25419607 0.55489985 0.17709737]\n",
      " [0.34068279 0.58295411 0.64031639 ... 0.71995743 0.17137048 0.07230273]]\n",
      "w_star:\n",
      "[[-0.52386839]\n",
      " [-0.59716215]\n",
      " [-0.20273094]\n",
      " [ 0.60383328]\n",
      " [ 0.14820504]\n",
      " [ 0.79931932]]\n",
      "Z shape: (3, 2000), \n",
      "w_star: (6, 1)\n"
     ]
    },
    {
     "ename": "ValueError",
     "evalue": "matmul: Input operand 1 has a mismatch in its core dimension 0, with gufunc signature (n?,k),(k,m?)->(n?,m?) (size 6 is different from 2000)",
     "output_type": "error",
     "traceback": [
      "\u001b[0;31m---------------------------------------------------------------------------\u001b[0m",
      "\u001b[0;31mValueError\u001b[0m                                Traceback (most recent call last)",
      "Cell \u001b[0;32mIn[14], line 11\u001b[0m\n\u001b[1;32m      9\u001b[0m \u001b[39mprint\u001b[39m(\u001b[39mf\u001b[39m\u001b[39m\"\u001b[39m\u001b[39mZ shape: \u001b[39m\u001b[39m{\u001b[39;00mnp\u001b[39m.\u001b[39mshape(Z)\u001b[39m}\u001b[39;00m\u001b[39m, \u001b[39m\u001b[39m\\n\u001b[39;00m\u001b[39mw_star: \u001b[39m\u001b[39m{\u001b[39;00mnp\u001b[39m.\u001b[39mshape(w_star)\u001b[39m}\u001b[39;00m\u001b[39m\"\u001b[39m)\n\u001b[1;32m     10\u001b[0m \u001b[39m#create the label array\u001b[39;00m\n\u001b[0;32m---> 11\u001b[0m y \u001b[39m=\u001b[39m np\u001b[39m.\u001b[39msign(Z \u001b[39m@\u001b[39;49m w_star)\n\u001b[1;32m     12\u001b[0m to_delete \u001b[39m=\u001b[39m [] \u001b[39m#index of rows to be deleted because those points sit on w_star\u001b[39;00m\n\u001b[1;32m     13\u001b[0m \u001b[39mfor\u001b[39;00m i \u001b[39min\u001b[39;00m \u001b[39mrange\u001b[39m(n):\n",
      "\u001b[0;31mValueError\u001b[0m: matmul: Input operand 1 has a mismatch in its core dimension 0, with gufunc signature (n?,k),(k,m?)->(n?,m?) (size 6 is different from 2000)"
     ]
    }
   ],
   "source": [
    "# randomly generate the features of n samples. \n",
    "X = rand(n,2) \n",
    "Z = MyUtils.z_transform(X, degree = r)\n",
    "Z = np.insert(Z, 0, 1, axis = 1)  # add the bias column\n",
    "\n",
    "\n",
    "Z = Z.T\n",
    "print(f\"Z\\n{Z}\\nw_star:\\n{w_star}\")\n",
    "print(f\"Z shape: {np.shape(Z)}, \\nw_star: {np.shape(w_star)}\")\n",
    "#create the label array\n",
    "y = np.sign(Z @ w_star)\n",
    "to_delete = [] #index of rows to be deleted because those points sit on w_star\n",
    "for i in range(n):\n",
    "    if y[i] == 0:\n",
    "        to_delete.append(i)\n",
    "\n",
    "# delete those samples sitting right on w_star        \n",
    "X = np.delete(X, to_delete, axis = 0)\n",
    "Z = np.delete(Z, to_delete, axis = 0)\n",
    "y = np.delete(y, to_delete, axis = 0)\n",
    "n = n - len(to_delete)\n"
   ]
  },
  {
   "cell_type": "code",
   "execution_count": null,
   "metadata": {},
   "outputs": [
    {
     "ename": "",
     "evalue": "",
     "output_type": "error",
     "traceback": [
      "\u001b[1;31mRunning cells with '/usr/bin/python3' requires ipykernel package.\n",
      "\u001b[1;31mRun the following command to install 'ipykernel' into the Python environment. \n",
      "\u001b[1;31mCommand: '/usr/bin/python3 -m pip install ipykernel -U --user --force-reinstall'"
     ]
    }
   ],
   "source": [
    "# mess up mess_percent of the samples to test pocket pla      \n",
    "if messed: \n",
    "    for i in range(math.floor(n * mess_percent)):\n",
    "        pos = math.floor(rand()*n)\n",
    "        y[pos] = y[pos] * (-1)"
   ]
  },
  {
   "cell_type": "code",
   "execution_count": null,
   "metadata": {},
   "outputs": [
    {
     "ename": "",
     "evalue": "",
     "output_type": "error",
     "traceback": [
      "\u001b[1;31mRunning cells with '/usr/bin/python3' requires ipykernel package.\n",
      "\u001b[1;31mRun the following command to install 'ipykernel' into the Python environment. \n",
      "\u001b[1;31mCommand: '/usr/bin/python3 -m pip install ipykernel -U --user --force-reinstall'"
     ]
    }
   ],
   "source": [
    "# separate + and - samples for plotting     \n",
    "pos = np.empty([1,2])\n",
    "neg = np.empty([1,2])\n",
    "for i in range(n):\n",
    "    if y[i] == 1:\n",
    "        pos = np.insert(pos, 0, X[i], 0)\n",
    "    else: \n",
    "        neg = np.insert(neg, 0, X[i], 0)\n",
    "# delete the init/useless row which is on the bottom        \n",
    "pos = np.delete(pos, -1, 0)\n",
    "neg = np.delete(neg, -1, 0)"
   ]
  },
  {
   "cell_type": "code",
   "execution_count": null,
   "metadata": {},
   "outputs": [
    {
     "ename": "",
     "evalue": "",
     "output_type": "error",
     "traceback": [
      "\u001b[1;31mRunning cells with '/usr/bin/python3' requires ipykernel package.\n",
      "\u001b[1;31mRun the following command to install 'ipykernel' into the Python environment. \n",
      "\u001b[1;31mCommand: '/usr/bin/python3 -m pip install ipykernel -U --user --force-reinstall'"
     ]
    }
   ],
   "source": [
    "# display the data samples and the target classifier that PLA is tring to learn\n",
    "plt.scatter(pos[:,0], pos[:,1], marker='+')\n",
    "plt.scatter(neg[:,0], neg[:,1], marker='_')\n",
    "\n",
    "display_w_2D(w_star, color = 'green', degree = r)\n",
    "\n",
    "plt.xlabel('x1')\n",
    "plt.ylabel('x2')\n",
    "plt.show()"
   ]
  },
  {
   "cell_type": "markdown",
   "metadata": {},
   "source": [
    "### Create an PLA class instance and train it by fitting it well with the training set $(\\mathrm{X}, \\mathrm{y})$. The learned weight vector which is an attribute of the PLA class object is the learned classifier. "
   ]
  },
  {
   "cell_type": "code",
   "execution_count": null,
   "metadata": {},
   "outputs": [
    {
     "ename": "",
     "evalue": "",
     "output_type": "error",
     "traceback": [
      "\u001b[1;31mRunning cells with '/usr/bin/python3' requires ipykernel package.\n",
      "\u001b[1;31mRun the following command to install 'ipykernel' into the Python environment. \n",
      "\u001b[1;31mCommand: '/usr/bin/python3 -m pip install ipykernel -U --user --force-reinstall'"
     ]
    }
   ],
   "source": [
    "r_z = r    # the degree of the Z space degree where the PLA will search\n",
    "\n",
    "perceptron = pla.PLA(degree=r_z)\n",
    "\n",
    "if messed: \n",
    "    perceptron.fit(X, y, pocket = True, epochs = epochs)\n",
    "else: \n",
    "    perceptron.fit(X, y, pocket = False)\n",
    "\n",
    "print('w:\\n', perceptron.w)\n",
    "\n"
   ]
  },
  {
   "cell_type": "markdown",
   "metadata": {},
   "source": [
    "### Display the data samples and the target classifier (the green curve) that PLA is tring to find and the classifier the PLA has found (the red curve)\n"
   ]
  },
  {
   "cell_type": "code",
   "execution_count": null,
   "metadata": {},
   "outputs": [
    {
     "ename": "",
     "evalue": "",
     "output_type": "error",
     "traceback": [
      "\u001b[1;31mRunning cells with '/usr/bin/python3' requires ipykernel package.\n",
      "\u001b[1;31mRun the following command to install 'ipykernel' into the Python environment. \n",
      "\u001b[1;31mCommand: '/usr/bin/python3 -m pip install ipykernel -U --user --force-reinstall'"
     ]
    }
   ],
   "source": [
    "plt.scatter(pos[:,0], pos[:,1], marker='+')\n",
    "plt.scatter(neg[:,0], neg[:,1], marker='_')\n",
    "\n",
    "display_w_2D(w_star, color = 'green', degree = r)\n",
    "display_w_2D(perceptron.w, color = 'red', degree = r_z)\n",
    "\n",
    "plt.xlabel('x1')\n",
    "plt.ylabel('x2')\n",
    "plt.show()"
   ]
  },
  {
   "cell_type": "markdown",
   "metadata": {},
   "source": [
    "### Report how many samples in the given data set $(\\mathrm{X}, \\mathrm{y})$ are misclassfied."
   ]
  },
  {
   "cell_type": "code",
   "execution_count": null,
   "metadata": {},
   "outputs": [
    {
     "ename": "",
     "evalue": "",
     "output_type": "error",
     "traceback": [
      "\u001b[1;31mRunning cells with '/usr/bin/python3' requires ipykernel package.\n",
      "\u001b[1;31mRun the following command to install 'ipykernel' into the Python environment. \n",
      "\u001b[1;31mCommand: '/usr/bin/python3 -m pip install ipykernel -U --user --force-reinstall'"
     ]
    }
   ],
   "source": [
    "print('misclassified counts:', perceptron.error(X,y))\n",
    "print('\\n')"
   ]
  }
 ],
 "metadata": {
  "kernelspec": {
   "display_name": "Python 3",
   "language": "python",
   "name": "python3"
  },
  "language_info": {
   "codemirror_mode": {
    "name": "ipython",
    "version": 3
   },
   "file_extension": ".py",
   "mimetype": "text/x-python",
   "name": "python",
   "nbconvert_exporter": "python",
   "pygments_lexer": "ipython3",
   "version": "3.8.6rc1"
  },
  "vscode": {
   "interpreter": {
    "hash": "aee8b7b246df8f9039afb4144a1f6fd8d2ca17a180786b69acc140d282b71a49"
   }
  }
 },
 "nbformat": 4,
 "nbformat_minor": 5
}
