{
 "cells": [
  {
   "cell_type": "code",
   "execution_count": 24,
   "metadata": {},
   "outputs": [
    {
     "name": "stdout",
     "output_type": "stream",
     "text": [
      "The autoreload extension is already loaded. To reload it, use:\n",
      "  %reload_ext autoreload\n"
     ]
    }
   ],
   "source": [
    "%load_ext autoreload\n",
    "%autoreload 2"
   ]
  },
  {
   "cell_type": "code",
   "execution_count": 25,
   "metadata": {},
   "outputs": [],
   "source": [
    "from pla import *\n",
    "from utils import MyUtils\n",
    "import numpy as np\n",
    "import pandas as pd"
   ]
  },
  {
   "cell_type": "code",
   "execution_count": 26,
   "metadata": {},
   "outputs": [],
   "source": [
    "ex1 = [[1],[2],[3]]\n",
    "ex2 = [[1, 2], [2, 3], [3, 4]]\n",
    "ex3 = [[1,2,3],[2,3,4],[3,4,5]]\n",
    "\n",
    "y = [1,1,1]\n"
   ]
  },
  {
   "cell_type": "code",
   "execution_count": 27,
   "metadata": {},
   "outputs": [],
   "source": [
    "X = ex2\n",
    "myPLA = PLA(4)"
   ]
  },
  {
   "cell_type": "code",
   "execution_count": 28,
   "metadata": {},
   "outputs": [
    {
     "name": "stdout",
     "output_type": "stream",
     "text": [
      "B:  [2, 5, 9, 14]\n",
      "[0, 1] 0 2 2\n",
      "L: [0, 1]\n",
      "Z: [[1, 2], [2, 3], [3, 4]]\n",
      "X: [[1, 2], [2, 3], [3, 4]]\n",
      "Top of i run, iL  1\n",
      "Bottom OF DIMENSION i LOOP RUN:\n",
      "i:  1\n",
      "   0  1  0   1   1\n",
      "0  1  2  1   2   4\n",
      "1  2  3  4   6   9\n",
      "2  3  4  9  12  16\n",
      "ERROR: Z length is not equal to B[degree_i]\n",
      "degree_i:  1  j:  1  k:  1 g:  5 q:  2 p:  5\n",
      "Top of i run, iL  2\n",
      "Bottom OF DIMENSION i LOOP RUN:\n",
      "i:  2\n",
      "   0  1  0   1   1   0   1   1   1\n",
      "0  1  2  1   2   4   1   2   4   8\n",
      "1  2  3  4   6   9   8  12  18  27\n",
      "2  3  4  9  12  16  27  36  48  64\n",
      "Top of i run, iL  3\n",
      "Bottom OF DIMENSION i LOOP RUN:\n",
      "i:  3\n",
      "   0  1  0   1   1   0   1   1   1   0    1    1    1    1\n",
      "0  1  2  1   2   4   1   2   4   8   1    2    4    8   16\n",
      "1  2  3  4   6   9   8  12  18  27  16   24   36   54   81\n",
      "2  3  4  9  12  16  27  36  48  64  81  108  144  192  256\n",
      "ERROR: Z length is not equal to B[degree_i]\n",
      "degree_i:  3  j:  8  k:  1 g:  14 q:  9 p:  14\n",
      "w:  [[0.]\n",
      " [0.]\n",
      " [0.]\n",
      " [0.]\n",
      " [0.]\n",
      " [0.]\n",
      " [0.]\n",
      " [0.]\n",
      " [0.]\n",
      " [0.]\n",
      " [0.]\n",
      " [0.]\n",
      " [0.]\n",
      " [0.]]\n"
     ]
    },
    {
     "data": {
      "text/plain": [
       "array([[0.],\n",
       "       [0.],\n",
       "       [0.],\n",
       "       [0.],\n",
       "       [0.],\n",
       "       [0.],\n",
       "       [0.],\n",
       "       [0.],\n",
       "       [0.],\n",
       "       [0.],\n",
       "       [0.],\n",
       "       [0.],\n",
       "       [0.],\n",
       "       [0.]])"
      ]
     },
     "execution_count": 28,
     "metadata": {},
     "output_type": "execute_result"
    }
   ],
   "source": [
    "myPLA.fit(X,y,True,100)"
   ]
  }
 ],
 "metadata": {
  "kernelspec": {
   "display_name": "Python 3",
   "language": "python",
   "name": "python3"
  },
  "language_info": {
   "codemirror_mode": {
    "name": "ipython",
    "version": 3
   },
   "file_extension": ".py",
   "mimetype": "text/x-python",
   "name": "python",
   "nbconvert_exporter": "python",
   "pygments_lexer": "ipython3",
   "version": "3.8.6rc1"
  },
  "vscode": {
   "interpreter": {
    "hash": "aee8b7b246df8f9039afb4144a1f6fd8d2ca17a180786b69acc140d282b71a49"
   }
  }
 },
 "nbformat": 4,
 "nbformat_minor": 2
}
