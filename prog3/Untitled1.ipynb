{
 "cells": [
  {
   "cell_type": "code",
   "execution_count": 1,
   "metadata": {},
   "outputs": [],
   "source": [
    "%load_ext autoreload\n",
    "%autoreload 2"
   ]
  },
  {
   "cell_type": "code",
   "execution_count": 2,
   "metadata": {},
   "outputs": [],
   "source": [
    "from pla import *\n",
    "from utils import MyUtils"
   ]
  },
  {
   "cell_type": "code",
   "execution_count": 3,
   "metadata": {},
   "outputs": [],
   "source": [
    "ex1 = [[1],[2],[3]]\n",
    "ex2 = [[1, 2], [2, 3], [3, 4]]\n",
    "ex3 = [[1,2,3],[2,3,4],[3,4,5]]\n",
    "\n",
    "y = [1,1,1]\n"
   ]
  },
  {
   "cell_type": "code",
   "execution_count": 4,
   "metadata": {},
   "outputs": [],
   "source": [
    "X = ex2\n",
    "myPLA = PLA(4)"
   ]
  },
  {
   "cell_type": "code",
   "execution_count": 5,
   "metadata": {},
   "outputs": [
    {
     "name": "stdout",
     "output_type": "stream",
     "text": [
      "4\n",
      "2\n",
      "2\n",
      "[2, 5, 9, 14]\n",
      "[0, 1] 0 1 1\n",
      "L: [0, 1]\n",
      "Z: [[1, 2], [2, 3], [3, 4]]\n",
      "X: [[1, 2], [2, 3], [3, 4]]\n",
      "TOP OF DIMENSION i LOOP RUN:\n",
      "i:  2 Z:  [[1, 2], [2, 3], [3, 4]] L:  [0, 1]\n",
      "1 2\n",
      "2 3\n",
      "3 4\n",
      "\n",
      "\n",
      "K RIGHT HERE = 0\n",
      "temp:  [1, 4, 9]\n",
      "numFeatuers 2\n",
      "i:  2  j:  0  k:  0 g:  2 , L:  [0, 0, 0] , L[g]:  0\n",
      "\n",
      "\n",
      "K RIGHT HERE = 1\n",
      "temp:  [2, 6, 12]\n",
      "numFeatuers 2\n",
      "i:  2  j:  0  k:  1 g:  3 , L:  [0, 0, 1, 1] , L[g]:  1\n",
      "TOP OF DIMENSION i LOOP RUN:\n",
      "i:  3 Z:  [[1, 2, 1, 2], [2, 3, 4, 6], [3, 4, 9, 12]] L:  [0, 0, 1, 1]\n",
      "1 2 1 2\n",
      "2 3 4 6\n",
      "3 4 9 12\n",
      "\n",
      "\n",
      "K RIGHT HERE = 0\n",
      "temp:  [2, 6, 12]\n",
      "numFeatuers 2\n",
      "i:  2  j:  1  k:  0 g:  4 , L:  [0, 0, 1, 0, 0] , L[g]:  0\n",
      "\n",
      "\n",
      "K RIGHT HERE = 1\n",
      "temp:  [4, 9, 16]\n",
      "numFeatuers 2\n",
      "i:  2  j:  1  k:  1 g:  5 , L:  [0, 0, 1, 0, 1, 1] , L[g]:  1\n",
      "1 2 1 2 2 4\n",
      "2 3 4 6 6 9\n",
      "3 4 9 12 12 16\n",
      "\n",
      "\n",
      "K RIGHT HERE = 1\n",
      "temp:  [2, 12, 36]\n",
      "numFeatuers 2\n",
      "i:  2  j:  2  k:  1 g:  6 , L:  [0, 0, 1, 0, 1, 1, 1] , L[g]:  1\n",
      "1 2 1 2 2 4 2\n",
      "2 3 4 6 6 9 12\n",
      "3 4 9 12 12 16 36\n",
      "\n",
      "\n",
      "K RIGHT HERE = 0\n",
      "temp:  [2, 12, 36]\n",
      "numFeatuers 2\n",
      "i:  2  j:  3  k:  0 g:  7 , L:  [0, 0, 1, 0, 1, 1, 0, 0] , L[g]:  0\n",
      "\n",
      "\n",
      "K RIGHT HERE = 1\n",
      "temp:  [4, 18, 48]\n",
      "numFeatuers 2\n",
      "i:  2  j:  3  k:  1 g:  8 , L:  [0, 0, 1, 0, 1, 1, 0, 1, 1] , L[g]:  1\n",
      "1 2 1 2 2 4 2 2 4\n",
      "2 3 4 6 6 9 12 12 18\n",
      "3 4 9 12 12 16 36 36 48\n",
      "\n",
      "\n",
      "K RIGHT HERE = 1\n",
      "temp:  [4, 18, 48]\n",
      "numFeatuers 2\n",
      "i:  2  j:  4  k:  1 g:  9 , L:  [0, 0, 1, 0, 1, 1, 0, 1, 1, 1] , L[g]:  1\n",
      "1 2 1 2 2 4 2 2 4 4\n",
      "2 3 4 6 6 9 12 12 18 18\n",
      "3 4 9 12 12 16 36 36 48 48\n",
      "\n",
      "\n",
      "K RIGHT HERE = 1\n",
      "temp:  [8, 27, 64]\n",
      "numFeatuers 2\n",
      "i:  2  j:  5  k:  1 g:  10 , L:  [0, 0, 1, 0, 1, 1, 0, 1, 1, 1, 1] , L[g]:  1\n",
      "1 2 1 2 2 4 2 2 4 4 8\n",
      "2 3 4 6 6 9 12 12 18 18 27\n",
      "3 4 9 12 12 16 36 36 48 48 64\n",
      "\n",
      "\n",
      "K RIGHT HERE = 0\n",
      "temp:  [2, 24, 108]\n",
      "numFeatuers 2\n",
      "i:  2  j:  6  k:  0 g:  11 , L:  [0, 0, 1, 0, 1, 1, 0, 1, 1, 1, 0, 0] , L[g]:  0\n",
      "\n",
      "\n",
      "K RIGHT HERE = 1\n",
      "temp:  [4, 36, 144]\n",
      "numFeatuers 2\n",
      "i:  2  j:  6  k:  1 g:  12 , L:  [0, 0, 1, 0, 1, 1, 0, 1, 1, 1, 0, 1, 1] , L[g]:  1\n",
      "1 2 1 2 2 4 2 2 4 4 8 2 4\n",
      "2 3 4 6 6 9 12 12 18 18 27 24 36\n",
      "3 4 9 12 12 16 36 36 48 48 64 108 144\n",
      "\n",
      "\n",
      "K RIGHT HERE = 1\n",
      "temp:  [4, 36, 144]\n",
      "numFeatuers 2\n",
      "i:  2  j:  7  k:  1 g:  13 , L:  [0, 0, 1, 0, 1, 1, 0, 1, 1, 1, 0, 1, 1, 1] , L[g]:  1\n",
      "1 2 1 2 2 4 2 2 4 4 8 2 4 4\n",
      "2 3 4 6 6 9 12 12 18 18 27 24 36 36\n",
      "3 4 9 12 12 16 36 36 48 48 64 108 144 144\n",
      "\n",
      "\n",
      "K RIGHT HERE = 1\n",
      "temp:  [8, 54, 192]\n",
      "numFeatuers 2\n",
      "i:  2  j:  8  k:  1 g:  14 , L:  [0, 0, 1, 0, 1, 1, 0, 1, 1, 1, 0, 1, 1, 1, 1] , L[g]:  1\n",
      "1 2 1 2 2 4 2 2 4 4 8 2 4 4 8\n",
      "2 3 4 6 6 9 12 12 18 18 27 24 36 36 54\n",
      "3 4 9 12 12 16 36 36 48 48 64 108 144 144 192\n",
      "\n",
      "\n",
      "K RIGHT HERE = 1\n",
      "temp:  [8, 54, 192]\n",
      "numFeatuers 2\n",
      "i:  2  j:  9  k:  1 g:  15 , L:  [0, 0, 1, 0, 1, 1, 0, 1, 1, 1, 0, 1, 1, 1, 1, 1] , L[g]:  1\n",
      "[[1, 2, 1, 2, 2, 4, 2, 2, 4, 4, 8, 2, 4, 4, 8, 8], [2, 3, 4, 6, 6, 9, 12, 12, 18, 18, 27, 24, 36, 36, 54, 54], [3, 4, 9, 12, 12, 16, 36, 36, 48, 48, 64, 108, 144, 144, 192, 192]]\n"
     ]
    }
   ],
   "source": [
    "myPLA.fit(X,y,True,100)"
   ]
  },
  {
   "cell_type": "code",
   "execution_count": null,
   "metadata": {},
   "outputs": [],
   "source": []
  },
  {
   "cell_type": "code",
   "execution_count": null,
   "metadata": {},
   "outputs": [],
   "source": []
  }
 ],
 "metadata": {
  "kernelspec": {
   "display_name": "Python 3",
   "language": "python",
   "name": "python3"
  },
  "language_info": {
   "codemirror_mode": {
    "name": "ipython",
    "version": 3
   },
   "file_extension": ".py",
   "mimetype": "text/x-python",
   "name": "python",
   "nbconvert_exporter": "python",
   "pygments_lexer": "ipython3",
   "version": "3.8.6rc1"
  },
  "vscode": {
   "interpreter": {
    "hash": "aee8b7b246df8f9039afb4144a1f6fd8d2ca17a180786b69acc140d282b71a49"
   }
  }
 },
 "nbformat": 4,
 "nbformat_minor": 2
}
