{
 "cells": [
  {
   "cell_type": "code",
   "execution_count": 17,
   "metadata": {},
   "outputs": [],
   "source": [
    "import numpy as np\n",
    "import math\n",
    "import linear_regression as LR"
   ]
  },
  {
   "cell_type": "code",
   "execution_count": 19,
   "metadata": {},
   "outputs": [
    {
     "ename": "AttributeError",
     "evalue": "'LinearRegression' object has no attribute 'shape'",
     "output_type": "error",
     "traceback": [
      "\u001b[1;31m---------------------------------------------------------------------------\u001b[0m",
      "\u001b[1;31mAttributeError\u001b[0m                            Traceback (most recent call last)",
      "Cell \u001b[1;32mIn[19], line 4\u001b[0m\n\u001b[0;32m      2\u001b[0m test_X1 \u001b[39m=\u001b[39m [[\u001b[39m1\u001b[39m,\u001b[39m2\u001b[39m],[\u001b[39m2\u001b[39m,\u001b[39m3\u001b[39m],[\u001b[39m3\u001b[39m,\u001b[39m4\u001b[39m]]\n\u001b[0;32m      3\u001b[0m test_y1 \u001b[39m=\u001b[39m [\u001b[39m1\u001b[39m,\u001b[39m0\u001b[39m,\u001b[39m-\u001b[39m\u001b[39m1\u001b[39m]\n\u001b[1;32m----> 4\u001b[0m lr\u001b[39m.\u001b[39;49m_fit_cf(lr, test_X1, test_y1)\n",
      "File \u001b[1;32mc:\\Users\\schuy\\23winter\\439_ml\\ML_homework\\prog4\\code_linear_regression\\linear_regression.py:72\u001b[0m, in \u001b[0;36mLinearRegression._fit_cf\u001b[1;34m(self, X, y, lam)\u001b[0m\n\u001b[0;32m     66\u001b[0m n, d \u001b[39m=\u001b[39m X\u001b[39m.\u001b[39mshape()\n\u001b[0;32m     67\u001b[0m \u001b[39m# X = MyUtils.z_transform(X,self.degree) SHOULDNT NEED, IN FIT\u001b[39;00m\n\u001b[0;32m     68\u001b[0m \u001b[39m# d = number of non-bias features in each sample\u001b[39;00m\n\u001b[0;32m     69\u001b[0m \u001b[39m# n = number of samples in training set\u001b[39;00m\n\u001b[0;32m     70\u001b[0m \u001b[39m# y = labels\u001b[39;00m\n\u001b[0;32m     71\u001b[0m \u001b[39m# self.w = np.random.rand(d+1,1)\u001b[39;00m\n\u001b[1;32m---> 72\u001b[0m \u001b[39mif\u001b[39;00m \u001b[39mself\u001b[39m\u001b[39m.\u001b[39mw \u001b[39mis\u001b[39;00m \u001b[39mNone\u001b[39;00m:\n\u001b[0;32m     73\u001b[0m     \u001b[39mself\u001b[39m\u001b[39m.\u001b[39mw \u001b[39m=\u001b[39m np\u001b[39m.\u001b[39mzeros(d\u001b[39m+\u001b[39m\u001b[39m1\u001b[39m) \u001b[39m# change data type here if needed\u001b[39;00m\n\u001b[0;32m     74\u001b[0m \u001b[39m# w = a weight vector of size d+1. w = [w0...wd].T\u001b[39;00m\n",
      "\u001b[1;31mAttributeError\u001b[0m: 'LinearRegression' object has no attribute 'shape'"
     ]
    }
   ],
   "source": [
    "lr = LR.LinearRegression()\n",
    "test_X1 = [[1,2],[2,3],[3,4]]\n",
    "test_y1 = [1,0,-1]\n",
    "lr._fit_cf(lr, test_X1, test_y1)\n",
    "\n"
   ]
  },
  {
   "cell_type": "code",
   "execution_count": null,
   "metadata": {},
   "outputs": [],
   "source": []
  }
 ],
 "metadata": {
  "kernelspec": {
   "display_name": "Python 3",
   "language": "python",
   "name": "python3"
  },
  "language_info": {
   "codemirror_mode": {
    "name": "ipython",
    "version": 3
   },
   "file_extension": ".py",
   "mimetype": "text/x-python",
   "name": "python",
   "nbconvert_exporter": "python",
   "pygments_lexer": "ipython3",
   "version": "3.11.1"
  },
  "orig_nbformat": 4,
  "vscode": {
   "interpreter": {
    "hash": "87cc1e4e96f289b92f40bd1356b4ab928745581f6ec6085dd5c51c725d6c5efc"
   }
  }
 },
 "nbformat": 4,
 "nbformat_minor": 2
}
